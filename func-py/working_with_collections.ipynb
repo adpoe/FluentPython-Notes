{
 "cells": [
  {
   "cell_type": "markdown",
   "metadata": {},
   "source": [
    "# Working with Collections"
   ]
  },
  {
   "cell_type": "code",
   "execution_count": 1,
   "metadata": {
    "collapsed": false
   },
   "outputs": [
    {
     "data": {
      "text/plain": [
       "[6, 5, 4]"
      ]
     },
     "execution_count": 1,
     "metadata": {},
     "output_type": "execute_result"
    }
   ],
   "source": [
    "# use built-in iter function to iterate over a collection\n",
    "# can also iterate through values created by a callable\n",
    "# or until a sentinel is voud\n",
    "tail = iter([1,2,3,None,4,5,6].pop, None)\n",
    "list(tail)"
   ]
  },
  {
   "cell_type": "markdown",
   "metadata": {},
   "source": [
    "### bulding higher order functions with callables"
   ]
  },
  {
   "cell_type": "code",
   "execution_count": 3,
   "metadata": {
    "collapsed": true
   },
   "outputs": [],
   "source": [
    "from collections.abc import Callable\n",
    "class NullAware(Callable):\n",
    "    def __init__(self, some_func):\n",
    "        self.some_func = some_func\n",
    "    def __call__(self, arg):\n",
    "        return None if arg is None else self.some_func(arg)\n",
    "\n",
    "# creates fn called Null aware, which is a higher order fn, \n",
    "# used to create a new fn"
   ]
  },
  {
   "cell_type": "code",
   "execution_count": 5,
   "metadata": {
    "collapsed": true
   },
   "outputs": [],
   "source": [
    "import math"
   ]
  },
  {
   "cell_type": "code",
   "execution_count": 7,
   "metadata": {
    "collapsed": false
   },
   "outputs": [],
   "source": [
    "null_log_scale = NullAware(math.log)"
   ]
  },
  {
   "cell_type": "code",
   "execution_count": 8,
   "metadata": {
    "collapsed": true
   },
   "outputs": [],
   "source": [
    "some_data = [10, 100, None, 50, 60]"
   ]
  },
  {
   "cell_type": "code",
   "execution_count": 9,
   "metadata": {
    "collapsed": true
   },
   "outputs": [],
   "source": [
    "scaled = map(null_log_scale, some_data)"
   ]
  },
  {
   "cell_type": "code",
   "execution_count": 10,
   "metadata": {
    "collapsed": false
   },
   "outputs": [
    {
     "data": {
      "text/plain": [
       "[2.302585092994046,\n",
       " 4.605170185988092,\n",
       " None,\n",
       " 3.912023005428146,\n",
       " 4.0943445622221]"
      ]
     },
     "execution_count": 10,
     "metadata": {},
     "output_type": "execute_result"
    }
   ],
   "source": [
    "list(scaled)"
   ]
  },
  {
   "cell_type": "markdown",
   "metadata": {},
   "source": [
    "### functional design"
   ]
  },
  {
   "cell_type": "code",
   "execution_count": 16,
   "metadata": {
    "collapsed": false
   },
   "outputs": [],
   "source": [
    "from collections.abc import Callable\n",
    "\n",
    "# uses abstract superclass Callable as basis for the class\n",
    "class Sum_Filter(Callable):\n",
    "    __slots__ = [\"filter\", \"function\"]\n",
    "    \n",
    "    # use filter to pass or reject items\n",
    "    # use function to transform them\n",
    "    def __init__(self, filter, function):\n",
    "        self.filter = filter\n",
    "        self.function = function\n",
    "        \n",
    "    def __call__(self, iterable):\n",
    "        return sum(self.function(x) for x in iterable\n",
    "                  if self.filter(x))"
   ]
  },
  {
   "cell_type": "code",
   "execution_count": 17,
   "metadata": {
    "collapsed": false
   },
   "outputs": [],
   "source": [
    "count_not_none = Sum_Filter(lambda x: x is not None, \n",
    "                            lambda x: 1)"
   ]
  },
  {
   "cell_type": "code",
   "execution_count": 22,
   "metadata": {
    "collapsed": false
   },
   "outputs": [
    {
     "data": {
      "text/plain": [
       "3"
      ]
     },
     "execution_count": 22,
     "metadata": {},
     "output_type": "execute_result"
    }
   ],
   "source": [
    "count_not_none([1,2,3,None])"
   ]
  },
  {
   "cell_type": "code",
   "execution_count": null,
   "metadata": {
    "collapsed": true
   },
   "outputs": [],
   "source": []
  }
 ],
 "metadata": {
  "kernelspec": {
   "display_name": "Python [Root]",
   "language": "python",
   "name": "Python [Root]"
  },
  "language_info": {
   "codemirror_mode": {
    "name": "ipython",
    "version": 3
   },
   "file_extension": ".py",
   "mimetype": "text/x-python",
   "name": "python",
   "nbconvert_exporter": "python",
   "pygments_lexer": "ipython3",
   "version": "3.5.1"
  }
 },
 "nbformat": 4,
 "nbformat_minor": 0
}
