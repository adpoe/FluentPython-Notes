{
 "cells": [
  {
   "cell_type": "markdown",
   "metadata": {},
   "source": [
    "# Metaclasses\n",
    "Notes on metaclasses from: http://eli.thegreenplace.net/2011/08/14/python-metaclasses-by-example"
   ]
  },
  {
   "cell_type": "code",
   "execution_count": 1,
   "metadata": {
    "collapsed": true
   },
   "outputs": [],
   "source": [
    "def make_myklass(**kwattrs):\n",
    "    return type('MyKlass', (object,), dict(**kwattrs))"
   ]
  },
  {
   "cell_type": "code",
   "execution_count": 2,
   "metadata": {
    "collapsed": true
   },
   "outputs": [],
   "source": [
    "myklass_foo_bar = make_myklass(foo=2, bar=4)"
   ]
  },
  {
   "cell_type": "code",
   "execution_count": 3,
   "metadata": {
    "collapsed": false
   },
   "outputs": [
    {
     "data": {
      "text/plain": [
       "__main__.MyKlass"
      ]
     },
     "execution_count": 3,
     "metadata": {},
     "output_type": "execute_result"
    }
   ],
   "source": [
    "myklass_foo_bar"
   ]
  },
  {
   "cell_type": "code",
   "execution_count": 4,
   "metadata": {
    "collapsed": true
   },
   "outputs": [],
   "source": [
    "x = myklass_foo_bar()"
   ]
  },
  {
   "cell_type": "code",
   "execution_count": 5,
   "metadata": {
    "collapsed": false
   },
   "outputs": [
    {
     "data": {
      "text/plain": [
       "<__main__.MyKlass at 0x10411ff60>"
      ]
     },
     "execution_count": 5,
     "metadata": {},
     "output_type": "execute_result"
    }
   ],
   "source": [
    "x\n"
   ]
  },
  {
   "cell_type": "code",
   "execution_count": 6,
   "metadata": {
    "collapsed": false
   },
   "outputs": [
    {
     "data": {
      "text/plain": [
       "2"
      ]
     },
     "execution_count": 6,
     "metadata": {},
     "output_type": "execute_result"
    }
   ],
   "source": [
    "x.foo"
   ]
  },
  {
   "cell_type": "code",
   "execution_count": 7,
   "metadata": {
    "collapsed": false
   },
   "outputs": [
    {
     "data": {
      "text/plain": [
       "4"
      ]
     },
     "execution_count": 7,
     "metadata": {},
     "output_type": "execute_result"
    }
   ],
   "source": [
    "x.bar"
   ]
  },
  {
   "cell_type": "code",
   "execution_count": 8,
   "metadata": {
    "collapsed": true
   },
   "outputs": [],
   "source": [
    "# same as\n",
    "class MyKlass(object):\n",
    "    foo=2\n",
    "    bar=4"
   ]
  },
  {
   "cell_type": "code",
   "execution_count": 11,
   "metadata": {
    "collapsed": true
   },
   "outputs": [],
   "source": [
    "# class of a class\n",
    "class SomeKlass(object): pass"
   ]
  },
  {
   "cell_type": "code",
   "execution_count": 12,
   "metadata": {
    "collapsed": false
   },
   "outputs": [],
   "source": [
    "someobject = SomeKlass()"
   ]
  },
  {
   "cell_type": "code",
   "execution_count": 13,
   "metadata": {
    "collapsed": false
   },
   "outputs": [
    {
     "data": {
      "text/plain": [
       "<__main__.SomeKlass at 0x10411f390>"
      ]
     },
     "execution_count": 13,
     "metadata": {},
     "output_type": "execute_result"
    }
   ],
   "source": [
    "someobject"
   ]
  },
  {
   "cell_type": "code",
   "execution_count": 14,
   "metadata": {
    "collapsed": false
   },
   "outputs": [
    {
     "data": {
      "text/plain": [
       "type"
      ]
     },
     "execution_count": 14,
     "metadata": {},
     "output_type": "execute_result"
    }
   ],
   "source": [
    "SomeKlass.__class__"
   ]
  },
  {
   "cell_type": "code",
   "execution_count": 15,
   "metadata": {
    "collapsed": true
   },
   "outputs": [],
   "source": [
    "# type is the class of python classes"
   ]
  },
  {
   "cell_type": "markdown",
   "metadata": {},
   "source": [
    "## metaclass\n",
    "the class of a class.\n",
    "\n",
    "any class whose instances are *themselves* classes --> metaclass\n",
    "\n",
    "therefore: `type` is a metaclass\n",
    "\n"
   ]
  },
  {
   "cell_type": "code",
   "execution_count": 16,
   "metadata": {
    "collapsed": true
   },
   "outputs": [],
   "source": [
    "# here, MyKlass has no __metaclas__ attr, so type is used instead\n",
    "class MyKlass(object):\n",
    "    foo = 2"
   ]
  },
  {
   "cell_type": "code",
   "execution_count": 18,
   "metadata": {
    "collapsed": false
   },
   "outputs": [],
   "source": [
    "# the class itself is created like so\n",
    "MyKlass = type(name, bases, dct)"
   ]
  },
  {
   "cell_type": "code",
   "execution_count": null,
   "metadata": {
    "collapsed": true
   },
   "outputs": [],
   "source": [
    "# here this happens\n",
    "class MyKlass(object):\n",
    "    __metaclass__ = MyMeta\n",
    "    foo = 2\n",
    "    \n",
    "# creates the class like so\n",
    "MyKlass = MyMeta(name, bases, dct)\n",
    "\n",
    "# so, MyMeta must be implemented to support calling like so\n",
    "# and returning a new class"
   ]
  },
  {
   "cell_type": "markdown",
   "metadata": {},
   "source": [
    "## Metaclass's __new__ and __init__"
   ]
  },
  {
   "cell_type": "code",
   "execution_count": null,
   "metadata": {
    "collapsed": true
   },
   "outputs": [],
   "source": [
    "# use __new__ to control creation of object (class)\n",
    "# use __init__ to control initialization of it\n",
    "# under hood, this happens\n",
    "MyKlass = MyMeta.__new__(MyMeta, name, bases, dct)\n",
    "MyMeta.__init__(MyKlass, name, bases, dct)"
   ]
  },
  {
   "cell_type": "code",
   "execution_count": 19,
   "metadata": {
    "collapsed": true
   },
   "outputs": [],
   "source": [
    "class MyMeta(type):\n",
    "    def __new__(meta, name, bases, dct):\n",
    "        print('-'*20)\n",
    "        print('Allocating memory for class', name)\n",
    "        print(meta)\n",
    "        print(bases)\n",
    "        print(dct)\n",
    "        return super(MyMeta, meta).__new__(meta, name, bases, dct)\n",
    "    def __init__(cls, name, bases, dct):\n",
    "        print('-'*20)\n",
    "        print('Initializing class', name)\n",
    "        print(cls)\n",
    "        print(bases)\n",
    "        print(dct)\n",
    "        super(MyMeta, cls).__init__(name, bases, dct)"
   ]
  },
  {
   "cell_type": "code",
   "execution_count": 22,
   "metadata": {
    "collapsed": true
   },
   "outputs": [],
   "source": [
    "class MyKlass(object):\n",
    "    __metaclass__ = MyMeta\n",
    "    \n",
    "    def foo(self, param):\n",
    "        pass\n",
    "    \n",
    "    barattr = 2"
   ]
  },
  {
   "cell_type": "code",
   "execution_count": 23,
   "metadata": {
    "collapsed": true
   },
   "outputs": [],
   "source": [
    "myklass = MyKlass()"
   ]
  },
  {
   "cell_type": "code",
   "execution_count": 25,
   "metadata": {
    "collapsed": false
   },
   "outputs": [
    {
     "data": {
      "text/plain": [
       "__main__.MyMeta"
      ]
     },
     "execution_count": 25,
     "metadata": {},
     "output_type": "execute_result"
    }
   ],
   "source": [
    "myklass.__metaclass__"
   ]
  },
  {
   "cell_type": "code",
   "execution_count": 34,
   "metadata": {
    "collapsed": false
   },
   "outputs": [
    {
     "name": "stdout",
     "output_type": "stream",
     "text": [
      "gonna create foo now...\n",
      "MyKlass object with a=1, b=2\n"
     ]
    }
   ],
   "source": [
    "class MyMeta(type):\n",
    "    def __call__(cls, *args, **kwds):\n",
    "        print('__call__ of ', str(cls))\n",
    "        print('__call__ *args=', str(args))\n",
    "        return type.__call__(cls, *args, **kwds)\n",
    "\n",
    "class MyKlass(object):\n",
    "    __metaclass__ = MyMeta\n",
    "\n",
    "    def __init__(self, a, b):\n",
    "        s = 'MyKlass object with a=%s, b=%s'% (a, b)\n",
    "        print(s)\n",
    "\n",
    "print('gonna create foo now...')\n",
    "# at init, MyMeta's __call__ is invoked\n",
    "# and we can alter data in transit\n",
    "foo = MyKlass(1, 2)\n",
    "\n"
   ]
  },
  {
   "cell_type": "code",
   "execution_count": null,
   "metadata": {
    "collapsed": true
   },
   "outputs": [],
   "source": []
  },
  {
   "cell_type": "code",
   "execution_count": null,
   "metadata": {
    "collapsed": true
   },
   "outputs": [],
   "source": []
  }
 ],
 "metadata": {
  "kernelspec": {
   "display_name": "Python [Root]",
   "language": "python",
   "name": "Python [Root]"
  },
  "language_info": {
   "codemirror_mode": {
    "name": "ipython",
    "version": 3
   },
   "file_extension": ".py",
   "mimetype": "text/x-python",
   "name": "python",
   "nbconvert_exporter": "python",
   "pygments_lexer": "ipython3",
   "version": "3.5.1"
  }
 },
 "nbformat": 4,
 "nbformat_minor": 0
}
