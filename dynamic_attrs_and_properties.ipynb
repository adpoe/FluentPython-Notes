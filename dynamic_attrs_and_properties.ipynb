{
 "cells": [
  {
   "cell_type": "markdown",
   "metadata": {},
   "source": [
    "# Dynamic Attributes and Properties\n",
    "Data attributes and methods are together known as 'attributes' in Python. A method is an attribute that is callable.\n",
    "\n",
    "Properties:  can replace a public data attribute with accessor methods (getter/setter) without changing the class interface. \n",
    "\n",
    "Interpreter calls special methods such as __getatrr__ and __setattr__ to evaluate attribute access using dot notation. \n",
    "\n",
    "User defined classes implementing __getattr__ can implement 'virtual attrs'; create vars on the fly when someone tries to read a non-existent attr, like obj.no_such_attribute."
   ]
  },
  {
   "cell_type": "code",
   "execution_count": 3,
   "metadata": {
    "collapsed": true
   },
   "outputs": [],
   "source": [
    "from urllib.request import urlopen\n",
    "import warnings\n",
    "import os\n",
    "import json\n",
    "\n",
    "URL = 'http://www.oreilly.com/pub/sc/osconfeed'\n",
    "JSON = 'data/osconfeed.json'\n",
    "\n",
    "def load():\n",
    "    if not os.path.exists(JSON):\n",
    "        msg = 'downloading {} to {}'.format(URL, JSON)\n",
    "        warnings.warn(msg)  # issue a warning if a new DL will be made\n",
    "        with urlopen(URL) as remote, open(JSON, 'wb') as local:\n",
    "        # with using two context managers to read remove file and save it\n",
    "            local.write(remote.read())\n",
    "    \n",
    "    with open(JSON) as fp:\n",
    "        return json.load(fp)  # json.load parses a JSON file and returns\n",
    "    # native Python objects. In this feed, we have the types:\n",
    "    # dict, list, str, int"
   ]
  },
  {
   "cell_type": "code",
   "execution_count": 4,
   "metadata": {
    "collapsed": false
   },
   "outputs": [
    {
     "name": "stderr",
     "output_type": "stream",
     "text": [
      "/Users/tony/.pyenv/versions/anaconda3-4.1.0/lib/python3.5/site-packages/ipykernel/__main__.py:12: UserWarning: downloading http://www.oreilly.com/pub/sc/osconfeed to data/osconfeed.json\n"
     ]
    }
   ],
   "source": [
    "feed = load()"
   ]
  },
  {
   "cell_type": "code",
   "execution_count": 5,
   "metadata": {
    "collapsed": false
   },
   "outputs": [
    {
     "data": {
      "text/plain": [
       "['conferences', 'events', 'speakers', 'venues']"
      ]
     },
     "execution_count": 5,
     "metadata": {},
     "output_type": "execute_result"
    }
   ],
   "source": [
    "sorted(feed['Schedule'].keys())"
   ]
  },
  {
   "cell_type": "code",
   "execution_count": 6,
   "metadata": {
    "collapsed": false
   },
   "outputs": [
    {
     "data": {
      "text/plain": [
       "'Carina C. Zona'"
      ]
     },
     "execution_count": 6,
     "metadata": {},
     "output_type": "execute_result"
    }
   ],
   "source": [
    "feed['Schedule']['speakers'][-1]['name']"
   ]
  },
  {
   "cell_type": "markdown",
   "metadata": {},
   "source": [
    "## Exploring JSON-Like Data with Dynamic Attributes\n",
    "\n",
    "Uses a recursive and read-only FrozenJSON class.\n",
    "\n",
    "Key is the __getattr__ method --> called by interpreter when the usual process fails to retrieve an attribute. (i.e. - named attribute is not found in this instance, nor in the class or its superclasses)\n",
    "\n"
   ]
  },
  {
   "cell_type": "code",
   "execution_count": 7,
   "metadata": {
    "collapsed": true
   },
   "outputs": [],
   "source": [
    "from collections import abc\n",
    "\n",
    "class FrozenJSON:\n",
    "    \"\"\"A read only facade for navigating a JSON-like object \n",
    "       using attribute notation\n",
    "    \"\"\"\n",
    "    \n",
    "    def __init__(self, mapping):\n",
    "        self.__data = dict(mapping)  # build a dict from the mapping arg\n",
    "        # This serves two purposes: ensures we got a dict (or something\n",
    "        # that can be converted to one) and makes a copy for safety\n",
    "        \n",
    "    def __getattr__(self, name):  # getarr is only called when\n",
    "        # there's no attribute with that name\n",
    "        if hasattr(self.__data, name):\n",
    "            return getattr(self.__data, name)  # if name matches an attr\n",
    "        # of the instanec __data, return that. This is how calls\n",
    "        # to methods like keys are handled\n",
    "        else:\n",
    "            return FrozenJSON.build(self.__data[name]) # otherwise, fetch\n",
    "        # the item with the key name from self.__data and return\n",
    "        # the result of calling FrozenJSON.build() on that\n",
    "        # --> this is where a KeyError may occur. If self.__data[name]\n",
    "        # should be handled an AttributeError raised instead, because that\n",
    "        # is what's expected from __getattr__. \n",
    "    \n",
    "    @classmethod\n",
    "    def build(cls, obj):  # this is an alternate constructor, common\n",
    "        # use for a classmethod\n",
    "        if isinstance(obj, abc.Mapping):  # if obj is a mapping build\n",
    "            # then build FrozenJSON with it\n",
    "            return cls(obj)\n",
    "        elif isinstance(obj, abc.MutableSequence):\n",
    "            # if it is a mutable seq, it must be a list (bc data src\n",
    "            # is json, & it must be a list or dict), so we build a list\n",
    "            # by passing every item in obj recursively to .build()\n",
    "            return [cls.build(item) for item in obj]\n",
    "        else:  # otherwise, return the item as it is\n",
    "            return obj"
   ]
  },
  {
   "cell_type": "markdown",
   "metadata": {},
   "source": [
    "No caching or transformation of the original feed is done. As the feed is traversed, the nested data structures are converted again and again into FrozenJSON. \n",
    "\n",
    "Biggest potential issue:  Keys in the original data strucutre may not be suitable attribute names. Next section addresses this."
   ]
  }
 ],
 "metadata": {
  "anaconda-cloud": {},
  "kernelspec": {
   "display_name": "Python [Root]",
   "language": "python",
   "name": "Python [Root]"
  },
  "language_info": {
   "codemirror_mode": {
    "name": "ipython",
    "version": 3
   },
   "file_extension": ".py",
   "mimetype": "text/x-python",
   "name": "python",
   "nbconvert_exporter": "python",
   "pygments_lexer": "ipython3",
   "version": "3.5.1"
  }
 },
 "nbformat": 4,
 "nbformat_minor": 0
}
