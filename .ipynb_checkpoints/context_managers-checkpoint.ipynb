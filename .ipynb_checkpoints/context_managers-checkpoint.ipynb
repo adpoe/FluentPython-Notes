{
 "cells": [
  {
   "cell_type": "markdown",
   "metadata": {},
   "source": [
    "# Context Managers"
   ]
  },
  {
   "cell_type": "code",
   "execution_count": 1,
   "metadata": {
    "collapsed": true
   },
   "outputs": [],
   "source": [
    "class LookingGlass:\n",
    "    \n",
    "    def __enter__(self):\n",
    "        import sys\n",
    "        self.original_write = sys.stdout.write  # hold orig stdout.write method attr for later\n",
    "        sys.stdout.write = self.reverse_write  # monkey patch sys.stdout.write, replace w/ our method\n",
    "        return 'JABBERWOCKY'  # return this string just to have something to return\n",
    "    \n",
    "    def reverse_write(self, text):\n",
    "        self.original_write(text[::-1]) # reverse arg, and call original implementation\n",
    "    \n",
    "    def __exit__(self, exc_type, exc_value, traceback):\n",
    "        import sys # cheap to import modules because python caches them\n",
    "        sys.stdout.write = self.original_write  # restore original method\n",
    "        if exc_type is ZeroDivisionError:\n",
    "            print('Please DO NOT divide by zero')\n",
    "            return True  # return True to tell interpreator exception was handled\n",
    "        # if exit returns None or anything but True, any exception raised in with block will be propagated\n"
   ]
  },
  {
   "cell_type": "markdown",
   "metadata": {},
   "source": [
    "# Using @contextmanager\n",
    "Create a generator w/ yield instead of a full class.\n",
    "\n",
    "Yield splits the body of the function in two parts. All before will be executed at the beginning of the with block, when the interpreter calls __enter__; code after yield will run when __exit__ is called at the end of the block."
   ]
  },
  {
   "cell_type": "code",
   "execution_count": 9,
   "metadata": {
    "collapsed": true
   },
   "outputs": [],
   "source": [
    "import contextlib"
   ]
  },
  {
   "cell_type": "code",
   "execution_count": 13,
   "metadata": {
    "collapsed": true
   },
   "outputs": [],
   "source": [
    "@contextlib.contextmanager\n",
    "def looking_glass():\n",
    "    import sys\n",
    "    original_write = sys.stdout.write\n",
    "    \n",
    "    def reverse_write(text): \n",
    "        original_write(text[::-1])\n",
    "    \n",
    "    sys.stdout.write = reverse_write\n",
    "    msg = ''\n",
    "    try:\n",
    "        yield 'JABBERWOCKY'  # yield value bound to target var of 'as' clause in with statement\n",
    "    # function pause at this point, as the body of the 'with' executes\n",
    "    except ZeroDivisionError:\n",
    "        msg = 'Please DO NOT divide by zero!'\n",
    "    finally:\n",
    "        sys.stdout.write = original_write # after we leave with context, perform this action\n",
    "        if msg:\n",
    "            print(msg)\n"
   ]
  },
  {
   "cell_type": "code",
   "execution_count": 14,
   "metadata": {
    "collapsed": false
   },
   "outputs": [
    {
     "name": "stdout",
     "output_type": "stream",
     "text": [
      "Alice, Kitty, and Snowdrop\n",
      "JABBERWOCKY\n"
     ]
    }
   ],
   "source": [
    "# normally should reverse text, but Jupyter may hold onto stdout, or similar...\n",
    "with looking_glass() as what:\n",
    "    print('Alice, Kitty, and Snowdrop')\n",
    "    print(what)"
   ]
  },
  {
   "cell_type": "markdown",
   "metadata": {},
   "source": [
    "# In Place File Re-Writing"
   ]
  },
  {
   "cell_type": "code",
   "execution_count": null,
   "metadata": {
    "collapsed": false
   },
   "outputs": [],
   "source": [
    "import csv\n",
    "\n",
    "with inplace(csvfilename, 'r', newline='') as (infh, outfh):\n",
    "    reader = csv.reader(infh)\n",
    "    writer = csv.write(outfh)\n",
    "    \n",
    "    for row in reader:\n",
    "        row += ['new', 'columns']\n",
    "        writer.writerow(row)"
   ]
  },
  {
   "cell_type": "code",
   "execution_count": null,
   "metadata": {
    "collapsed": true
   },
   "outputs": [],
   "source": []
  }
 ],
 "metadata": {
  "kernelspec": {
   "display_name": "Python 3",
   "language": "python",
   "name": "python3"
  },
  "language_info": {
   "codemirror_mode": {
    "name": "ipython",
    "version": 3
   },
   "file_extension": ".py",
   "mimetype": "text/x-python",
   "name": "python",
   "nbconvert_exporter": "python",
   "pygments_lexer": "ipython3",
   "version": "3.5.1"
  }
 },
 "nbformat": 4,
 "nbformat_minor": 0
}
