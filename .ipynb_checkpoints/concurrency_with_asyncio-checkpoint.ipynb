{
 "cells": [
  {
   "cell_type": "markdown",
   "metadata": {},
   "source": [
    "# Concurrency with asyncio"
   ]
  },
  {
   "cell_type": "markdown",
   "metadata": {},
   "source": [
    "## Compare vs Threading"
   ]
  },
  {
   "cell_type": "code",
   "execution_count": 1,
   "metadata": {
    "collapsed": false
   },
   "outputs": [
    {
     "name": "stdout",
     "output_type": "stream",
     "text": [
      "spinner object: <Thread(Thread-4, initial)>\n",
      "| thinking!\b\b\b\b\b\b\b\b\b\b\b/ thinking!\b\b\b\b\b\b\b\b\b\b\b- thinking!\b\b\b\b\b\b\b\b\b\b\b\\ thinking!\b\b\b\b\b\b\b\b\b\b\b| thinking!\b\b\b\b\b\b\b\b\b\b\b/ thinking!\b\b\b\b\b\b\b\b\b\b\b- thinking!\b\b\b\b\b\b\b\b\b\b\b\\ thinking!\b\b\b\b\b\b\b\b\b\b\b| thinking!\b\b\b\b\b\b\b\b\b\b\b/ thinking!\b\b\b\b\b\b\b\b\b\b\b- thinking!\b\b\b\b\b\b\b\b\b\b\b\\ thinking!\b\b\b\b\b\b\b\b\b\b\b| thinking!\b\b\b\b\b\b\b\b\b\b\b/ thinking!\b\b\b\b\b\b\b\b\b\b\b- thinking!\b\b\b\b\b\b\b\b\b\b\b\\ thinking!\b\b\b\b\b\b\b\b\b\b\b| thinking!\b\b\b\b\b\b\b\b\b\b\b/ thinking!\b\b\b\b\b\b\b\b\b\b\b- thinking!\b\b\b\b\b\b\b\b\b\b\b\\ thinking!\b\b\b\b\b\b\b\b\b\b\b| thinking!\b\b\b\b\b\b\b\b\b\b\b/ thinking!\b\b\b\b\b\b\b\b\b\b\b- thinking!\b\b\b\b\b\b\b\b\b\b\b\\ thinking!\b\b\b\b\b\b\b\b\b\b\b| thinking!\b\b\b\b\b\b\b\b\b\b\b/ thinking!\b\b\b\b\b\b\b\b\b\b\b- thinking!\b\b\b\b\b\b\b\b\b\b\b\\ thinking!\b\b\b\b\b\b\b\b\b\b\b| thinking!\b\b\b\b\b\b\b\b\b\b\b           \b\b\b\b\b\b\b\b\b\b\bAnswer: 42\n"
     ]
    }
   ],
   "source": [
    "# spinner_thread.py\n",
    "\n",
    "# credits: Adapted from Michele Simionato's\n",
    "# multiprocessing example in the python-list:\n",
    "# https://mail.python.org/pipermail/python-list/2009-February/538048.html\n",
    "\n",
    "# BEGIN SPINNER_THREAD\n",
    "import threading\n",
    "import itertools\n",
    "import time\n",
    "import sys\n",
    "\n",
    "\n",
    "def spin(msg, done):  # <2>\n",
    "    write, flush = sys.stdout.write, sys.stdout.flush\n",
    "    for char in itertools.cycle('|/-\\\\'):  # <3>\n",
    "        status = char + ' ' + msg\n",
    "        write(status)\n",
    "        flush()\n",
    "        write('\\x08' * len(status))  # <4>\n",
    "        if done.wait(.1):  # <5>\n",
    "            break\n",
    "    write(' ' * len(status) + '\\x08' * len(status))  # <6>\n",
    "\n",
    "\n",
    "def slow_function():  # <7>\n",
    "    # pretend waiting a long time for I/O\n",
    "    time.sleep(3)  # <8>\n",
    "    return 42\n",
    "\n",
    "\n",
    "def supervisor():  # <9>\n",
    "    done = threading.Event()\n",
    "    spinner = threading.Thread(target=spin,\n",
    "                               args=('thinking!', done))\n",
    "    print('spinner object:', spinner)  # <10>\n",
    "    spinner.start()  # <11>\n",
    "    result = slow_function()  # <12>\n",
    "    done.set()  # <13>\n",
    "    spinner.join()  # <14>\n",
    "    return result\n",
    "\n",
    "\n",
    "def main():\n",
    "    result = supervisor()  # <15>\n",
    "    print('Answer:', result)\n",
    "\n",
    "\n",
    "if __name__ == '__main__':\n",
    "    main()\n",
    "# END SPINNER_THREAD"
   ]
  },
  {
   "cell_type": "markdown",
   "metadata": {},
   "source": [
    "## And now with an Asyncio coroutine"
   ]
  },
  {
   "cell_type": "code",
   "execution_count": 4,
   "metadata": {
    "collapsed": false
   },
   "outputs": [
    {
     "name": "stdout",
     "output_type": "stream",
     "text": [
      "spinner object:  <Task pending coro=<spin() running at <ipython-input-4-f05f121b810c>:5>>\n",
      "| thinking!\b\b\b\b\b\b\b\b\b\b\b/ thinking!\b\b\b\b\b\b\b\b\b\b\b= thinking!\b\b\b\b\b\b\b\b\b\b\b\\ thinking!\b\b\b\b\b\b\b\b\b\b\b| thinking!\b\b\b\b\b\b\b\b\b\b\b/ thinking!\b\b\b\b\b\b\b\b\b\b\b= thinking!\b\b\b\b\b\b\b\b\b\b\b\\ thinking!\b\b\b\b\b\b\b\b\b\b\b| thinking!\b\b\b\b\b\b\b\b\b\b\b/ thinking!\b\b\b\b\b\b\b\b\b\b\b= thinking!\b\b\b\b\b\b\b\b\b\b\b\\ thinking!\b\b\b\b\b\b\b\b\b\b\b| thinking!\b\b\b\b\b\b\b\b\b\b\b/ thinking!\b\b\b\b\b\b\b\b\b\b\b= thinking!\b\b\b\b\b\b\b\b\b\b\b\\ thinking!\b\b\b\b\b\b\b\b\b\b\b| thinking!\b\b\b\b\b\b\b\b\b\b\b/ thinking!\b\b\b\b\b\b\b\b\b\b\b= thinking!\b\b\b\b\b\b\b\b\b\b\b\\ thinking!\b\b\b\b\b\b\b\b\b\b\b| thinking!\b\b\b\b\b\b\b\b\b\b\b/ thinking!\b\b\b\b\b\b\b\b\b\b\b= thinking!\b\b\b\b\b\b\b\b\b\b\b\\ thinking!\b\b\b\b\b\b\b\b\b\b\b| thinking!\b\b\b\b\b\b\b\b\b\b\b/ thinking!\b\b\b\b\b\b\b\b\b\b\b= thinking!\b\b\b\b\b\b\b\b\b\b\b\\ thinking!\b\b\b\b\b\b\b\b\b\b\b| thinking!\b\b\b\b\b\b\b\b\b\b\b           \b\b\b\b\b\b\b\b\b\b\bAnswer:  42\n"
     ]
    }
   ],
   "source": [
    "import asyncio\n",
    "import itertools\n",
    "import sys\n",
    "\n",
    "@asyncio.coroutine\n",
    "def spin(msg):\n",
    "    write, flush = sys.stdout.write, sys.stdout.flush\n",
    "    for char in itertools.cycle('|/=\\\\'):\n",
    "        status = char + ' ' + msg\n",
    "        write(status)\n",
    "        flush()\n",
    "        write('\\x08' * len(status))\n",
    "        try:\n",
    "            yield from asyncio.sleep(.1)\n",
    "            # using the combo of yield from and asyncio.sleep\n",
    "            # we can sleep without blocking the event loop\n",
    "        except asyncio.CancelledError: \n",
    "            break\n",
    "    write(' ' * len(status) + '\\x08' * len(status))\n",
    "\n",
    "@asyncio.coroutine\n",
    "def slow_function():\n",
    "    # pretend waiting a long time for I/O\n",
    "    yield from asyncio.sleep(3) #  handles control flow to the main loop,\n",
    "    # and wil resume the coroutine after the sleep delay\n",
    "    return 42\n",
    "\n",
    "@asyncio.coroutine\n",
    "def supervisor():\n",
    "    # asyncio.async schedules the the spin coro to run\n",
    "    # wrapping it in a Task object, which is returned immediatly\n",
    "    spinner = asyncio.async(spin('thinking!'))  \n",
    "    print('spinner object: ', spinner) # display the task object\n",
    "    result = yield from slow_function() # drive the slow function\n",
    "    # when that is done, we get the returned value\n",
    "    # meanwhile the event loop will continue running because slow_function\n",
    "    # ulimately uses yield from asyncio.sleep(3) to hand control\n",
    "    # back to the main loop\n",
    "    spinner.cancel() # ends the coro\n",
    "    return result\n",
    "\n",
    "def main():\n",
    "    loop = asyncio.get_event_loop()  # get a ref to the event loop\n",
    "    result = loop.run_until_complete(supervisor())  # drive the supervisor\n",
    "    # to completion. The return value of the coor is the return value\n",
    "    # of this call\n",
    "    print('Answer: ', result)\n",
    "\n",
    "if __name__ == '__main__':\n",
    "    main()"
   ]
  },
  {
   "cell_type": "markdown",
   "metadata": {},
   "source": [
    "Note:  Never use time.sleep(...) in asyncio coro's unless you want\n",
    "to block the main thread, therefore freezing the event loop \n",
    "and prob whole application.... \n",
    "\n",
    "If coro must spend time doing nothing, use: yield from asyncio.sleep(DELAY)\n"
   ]
  },
  {
   "cell_type": "code",
   "execution_count": null,
   "metadata": {
    "collapsed": true
   },
   "outputs": [],
   "source": [
    "# quick coro experiment code\n",
    "import asyncio\n",
    "def run_sync(coro_or_future):\n",
    "    loop = asyncio.get_event_loop()\n",
    "    return loop.run_until_complete(coro_or_future)\n",
    "\n",
    "a = run_sync(some_coroutine())"
   ]
  },
  {
   "cell_type": "markdown",
   "metadata": {},
   "source": [
    "## Downloading with asyncio and aiohttp\n",
    "asyncio supports TCP and UDP directly.\n",
    "\n",
    "For HTTP or any other protocol, we need 3rd party packages.\n",
    "\n",
    "aiohttp is the one to use or asyncio HTTP clients right now.\n",
    "\n",
    "Idea for below example:\n",
    "- Single threaded program where a main-loop activates queued coroutines one by one\n",
    "- Each coroutine advances a few steps, then yields control back to the main loop, which activates the next coroutine in the queue."
   ]
  },
  {
   "cell_type": "code",
   "execution_count": null,
   "metadata": {
    "collapsed": true
   },
   "outputs": [],
   "source": []
  }
 ],
 "metadata": {
  "kernelspec": {
   "display_name": "Python 3",
   "language": "python",
   "name": "python3"
  },
  "language_info": {
   "codemirror_mode": {
    "name": "ipython",
    "version": 3
   },
   "file_extension": ".py",
   "mimetype": "text/x-python",
   "name": "python",
   "nbconvert_exporter": "python",
   "pygments_lexer": "ipython3",
   "version": "3.5.1"
  }
 },
 "nbformat": 4,
 "nbformat_minor": 0
}
